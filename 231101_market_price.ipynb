{
 "cells": [
  {
   "cell_type": "code",
   "execution_count": 84,
   "id": "bce32ec7-8eb0-447e-a412-a6c3a53f95ba",
   "metadata": {
    "tags": []
   },
   "outputs": [],
   "source": [
    "import numpy as np\n",
    "import pandas as pd\n",
    "import requests \n",
    "from bs4 import BeautifulSoup\n",
    "import random\n",
    "import time\n",
    "\n",
    "from tqdm.notebook import tqdm\n",
    "#from fake_useragent import UserAgent"
   ]
  },
  {
   "cell_type": "code",
   "execution_count": 33,
   "id": "c9b3cdeb-beac-40aa-bcd0-3c8312cf2571",
   "metadata": {
    "tags": []
   },
   "outputs": [
    {
     "data": {
      "text/html": [
       "<div>\n",
       "<style scoped>\n",
       "    .dataframe tbody tr th:only-of-type {\n",
       "        vertical-align: middle;\n",
       "    }\n",
       "\n",
       "    .dataframe tbody tr th {\n",
       "        vertical-align: top;\n",
       "    }\n",
       "\n",
       "    .dataframe thead th {\n",
       "        text-align: right;\n",
       "    }\n",
       "</style>\n",
       "<table border=\"1\" class=\"dataframe\">\n",
       "  <thead>\n",
       "    <tr style=\"text-align: right;\">\n",
       "      <th></th>\n",
       "      <th>Unnamed: 0</th>\n",
       "      <th>eng</th>\n",
       "      <th>ind</th>\n",
       "      <th>cate</th>\n",
       "    </tr>\n",
       "  </thead>\n",
       "  <tbody>\n",
       "    <tr>\n",
       "      <th>0</th>\n",
       "      <td>0</td>\n",
       "      <td>vegetable</td>\n",
       "      <td>base</td>\n",
       "      <td>vege</td>\n",
       "    </tr>\n",
       "    <tr>\n",
       "      <th>1</th>\n",
       "      <td>1</td>\n",
       "      <td>rice</td>\n",
       "      <td>beras</td>\n",
       "      <td>vege</td>\n",
       "    </tr>\n",
       "    <tr>\n",
       "      <th>2</th>\n",
       "      <td>2</td>\n",
       "      <td>shallots</td>\n",
       "      <td>bawang merah</td>\n",
       "      <td>vege</td>\n",
       "    </tr>\n",
       "    <tr>\n",
       "      <th>3</th>\n",
       "      <td>3</td>\n",
       "      <td>garlic</td>\n",
       "      <td>bawang putih</td>\n",
       "      <td>vege</td>\n",
       "    </tr>\n",
       "    <tr>\n",
       "      <th>4</th>\n",
       "      <td>4</td>\n",
       "      <td>red chili pepper</td>\n",
       "      <td>cabai merah</td>\n",
       "      <td>vege</td>\n",
       "    </tr>\n",
       "  </tbody>\n",
       "</table>\n",
       "</div>"
      ],
      "text/plain": [
       "   Unnamed: 0               eng           ind  cate\n",
       "0           0         vegetable          base  vege\n",
       "1           1              rice         beras  vege\n",
       "2           2          shallots  bawang merah  vege\n",
       "3           3            garlic  bawang putih  vege\n",
       "4           4  red chili pepper   cabai merah  vege"
      ]
     },
     "execution_count": 33,
     "metadata": {},
     "output_type": "execute_result"
    }
   ],
   "source": [
    "ingre_df = pd.read_excel(r\"C:\\Users\\USER\\Desktop\\All\\Project\\23_foodtech\\data\\generate\\ingredient.xlsx\")\n",
    "ingre_df.head()"
   ]
  },
  {
   "cell_type": "code",
   "execution_count": 42,
   "id": "f92f5447-9a0b-401a-820d-e224de1230b2",
   "metadata": {
    "tags": []
   },
   "outputs": [],
   "source": [
    "ingre_all = list(ingre_df[\"eng\"].values)"
   ]
  },
  {
   "cell_type": "code",
   "execution_count": null,
   "id": "c2607af3-6578-412f-9659-f2cce9f7bfa6",
   "metadata": {},
   "outputs": [],
   "source": []
  },
  {
   "cell_type": "code",
   "execution_count": null,
   "id": "c889d7d3-0b1f-4276-b88d-70e411fdd59c",
   "metadata": {},
   "outputs": [],
   "source": []
  },
  {
   "cell_type": "code",
   "execution_count": 43,
   "id": "627ef95d-e737-4c71-b689-f56cb6e66d1a",
   "metadata": {
    "tags": []
   },
   "outputs": [
    {
     "name": "stdout",
     "output_type": "stream",
     "text": [
      "5.109\n",
      "5.109\n"
     ]
    }
   ],
   "source": [
    "key_ = \"pork\"\n",
    "url_ = \"https://fred.stlouisfed.org/searchresults/?st={}\"\n",
    "url_2 = \"https://fred.stlouisfed.org{}\"\n",
    "url_ = url_.format(key_)\n",
    "html = requests.get(url_).text\n",
    "soup = BeautifulSoup(html,\"html.parser\")\n",
    "url_next = \"\"\n",
    "for tag in soup.select(\"#search-results-list\"):\n",
    "    a_ = tag.find(\"div\").find(\"a\")[\"href\"]\n",
    "    url_next = url_2.format(a_)\n",
    "    #url_next.append(url_2.format(a_))\n",
    "    #print(url_next)\n",
    "html = requests.get(url_next).text\n",
    "soup = BeautifulSoup(html,\"html.parser\")\n",
    "price = \"\"\n",
    "for tag in soup.select(\"#series-meta-row .series-meta-observation-value\"):\n",
    "    price = tag.text\n",
    "    print(price)"
   ]
  },
  {
   "cell_type": "code",
   "execution_count": 91,
   "id": "16403035-1c60-469e-a4e7-f39c465d4596",
   "metadata": {
    "tags": []
   },
   "outputs": [],
   "source": [
    "def extract_price(key_):\n",
    "    #key_ = \"pork\"\n",
    "    #print(key_)\n",
    "    url_ = \"https://fred.stlouisfed.org/searchresults/?st={}\"\n",
    "    url_2 = \"https://fred.stlouisfed.org{}\"\n",
    "    url_ = url_.format(key_)\n",
    "    html = requests.get(url_).text\n",
    "    soup = BeautifulSoup(html,\"html.parser\")\n",
    "    url_next = \"\"\n",
    "    try:\n",
    "        for tag in soup.select(\"#search-results-list\"):\n",
    "            a_ = tag.find(\"div\").find(\"a\")[\"href\"]\n",
    "            #print(a_)\n",
    "            url_next = url_2.format(a_)\n",
    "            #url_next.append(url_2.format(a_))\n",
    "\n",
    "        html = requests.get(url_next).text\n",
    "        soup = BeautifulSoup(html,\"html.parser\")\n",
    "        price = \"\"\n",
    "        for tag in soup.select(\"#series-meta-row .series-meta-observation-value\"):\n",
    "            price = tag.text\n",
    "        price = float(price)\n",
    "    except:\n",
    "        price = round(np.random.uniform(low=3,high=10,size=(1))[0],2)\n",
    "            #print(key_,price)\n",
    "    if price >= 30:\n",
    "        price = round(np.random.uniform(low=3,high=10,size=(1))[0],2)\n",
    "    return float(price)"
   ]
  },
  {
   "cell_type": "code",
   "execution_count": 92,
   "id": "f3f4bb3c-7329-4b69-af34-66c3bc9b6bf6",
   "metadata": {
    "tags": []
   },
   "outputs": [
    {
     "data": {
      "text/plain": [
       "''"
      ]
     },
     "execution_count": 92,
     "metadata": {},
     "output_type": "execute_result"
    }
   ],
   "source": [
    "url_next"
   ]
  },
  {
   "cell_type": "code",
   "execution_count": 93,
   "id": "5cbf3abd-8e9d-406c-8570-77015f9eac73",
   "metadata": {
    "tags": []
   },
   "outputs": [
    {
     "data": {
      "text/plain": [
       "7.72"
      ]
     },
     "execution_count": 93,
     "metadata": {},
     "output_type": "execute_result"
    }
   ],
   "source": [
    "test = ingre_all[2]\n",
    "extract_price(test)"
   ]
  },
  {
   "cell_type": "code",
   "execution_count": null,
   "id": "b8c65325-7e55-46f0-a283-6175e885b5da",
   "metadata": {
    "tags": []
   },
   "outputs": [],
   "source": []
  },
  {
   "cell_type": "code",
   "execution_count": 95,
   "id": "1f52a11b-ebc0-48c9-92a1-5488164cb5a0",
   "metadata": {
    "tags": []
   },
   "outputs": [
    {
     "data": {
      "application/vnd.jupyter.widget-view+json": {
       "model_id": "ca6ea94745424087bb5ebd87fb10a603",
       "version_major": 2,
       "version_minor": 0
      },
      "text/plain": [
       "  0%|          | 0/140 [00:00<?, ?it/s]"
      ]
     },
     "metadata": {},
     "output_type": "display_data"
    }
   ],
   "source": [
    "price_all = []\n",
    "tq = tqdm(range(len(ingre_df)))\n",
    "for i in tq:\n",
    "    time.sleep(0.1)\n",
    "    test = ingre_df[\"eng\"][i]\n",
    "    pri_ = extract_price(test)\n",
    "    price_all.append(pri_)"
   ]
  },
  {
   "cell_type": "code",
   "execution_count": 97,
   "id": "d3a0db2b-b105-4805-a57f-f75214105bb1",
   "metadata": {
    "tags": []
   },
   "outputs": [],
   "source": [
    "ingre_df[\"price\"] = price_all"
   ]
  },
  {
   "cell_type": "code",
   "execution_count": 99,
   "id": "34bace45-10db-4749-8ea6-79e22feb9556",
   "metadata": {
    "tags": []
   },
   "outputs": [],
   "source": [
    "ingre_df.to_excel(r\"C:\\Users\\USER\\Desktop\\All\\Project\\23_foodtech\\data\\generate\\ingredient_2.xlsx\")"
   ]
  },
  {
   "cell_type": "code",
   "execution_count": null,
   "id": "92f9be83-339f-4e87-9c5a-8359591c5ced",
   "metadata": {},
   "outputs": [],
   "source": []
  },
  {
   "cell_type": "code",
   "execution_count": 54,
   "id": "d3f00bc4-2550-48a3-913e-efb921b06078",
   "metadata": {
    "tags": []
   },
   "outputs": [
    {
     "data": {
      "text/plain": [
       "'https://fred.stlouisfed.org/series/APU0000703112'"
      ]
     },
     "execution_count": 54,
     "metadata": {},
     "output_type": "execute_result"
    }
   ],
   "source": [
    "url_next"
   ]
  },
  {
   "cell_type": "code",
   "execution_count": 50,
   "id": "02b56d4d-e049-4862-b7f7-00eb74a81d3d",
   "metadata": {
    "tags": []
   },
   "outputs": [
    {
     "data": {
      "text/plain": [
       "'rice'"
      ]
     },
     "execution_count": 50,
     "metadata": {},
     "output_type": "execute_result"
    }
   ],
   "source": [
    "ingre_all[1]"
   ]
  },
  {
   "cell_type": "code",
   "execution_count": 52,
   "id": "47d5de03-a018-4c3b-a12a-e7bac53a1660",
   "metadata": {
    "tags": []
   },
   "outputs": [
    {
     "data": {
      "text/plain": [
       "'shallots'"
      ]
     },
     "execution_count": 52,
     "metadata": {},
     "output_type": "execute_result"
    }
   ],
   "source": [
    " ingre_all[2]"
   ]
  },
  {
   "cell_type": "code",
   "execution_count": null,
   "id": "bf145ec5-f2d7-4215-a4ab-552bc99b19e2",
   "metadata": {},
   "outputs": [],
   "source": []
  },
  {
   "cell_type": "code",
   "execution_count": null,
   "id": "59be14ad-17e9-4a89-a2d7-e18217c1b07b",
   "metadata": {},
   "outputs": [],
   "source": []
  },
  {
   "cell_type": "code",
   "execution_count": null,
   "id": "6c97c5ae-eec2-4aa7-a370-cc9bd919fb6b",
   "metadata": {},
   "outputs": [],
   "source": []
  },
  {
   "cell_type": "code",
   "execution_count": null,
   "id": "d373ca3b-4f50-4a61-9075-af90d19b0513",
   "metadata": {},
   "outputs": [],
   "source": []
  },
  {
   "cell_type": "code",
   "execution_count": null,
   "id": "73bad897-d70a-42b2-90b6-b34b0d258c21",
   "metadata": {},
   "outputs": [],
   "source": []
  }
 ],
 "metadata": {
  "kernelspec": {
   "display_name": "Python 3 (ipykernel)",
   "language": "python",
   "name": "python3"
  },
  "language_info": {
   "codemirror_mode": {
    "name": "ipython",
    "version": 3
   },
   "file_extension": ".py",
   "mimetype": "text/x-python",
   "name": "python",
   "nbconvert_exporter": "python",
   "pygments_lexer": "ipython3",
   "version": "3.11.5"
  }
 },
 "nbformat": 4,
 "nbformat_minor": 5
}
